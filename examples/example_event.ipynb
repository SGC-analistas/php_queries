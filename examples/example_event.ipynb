{
 "cells": [
  {
   "cell_type": "markdown",
   "metadata": {},
   "source": [
    "Usemos el siguiente bloque para importar añadir al path la librería query"
   ]
  },
  {
   "cell_type": "code",
   "execution_count": 1,
   "metadata": {},
   "outputs": [],
   "source": [
    "import sys\n",
    "import os \n",
    "query_path = os.path.dirname(os.getcwd())\n",
    "sys.path.insert(0,query_path)"
   ]
  },
  {
   "cell_type": "markdown",
   "metadata": {},
   "source": [
    "Desde aca empieza"
   ]
  },
  {
   "cell_type": "code",
   "execution_count": 2,
   "metadata": {},
   "outputs": [],
   "source": [
    "import query as qy\n",
    "\n",
    "host = \"10.100.100.232\"\n",
    "user=\"consulta\"\n",
    "passwd=\"consulta\"\n",
    "db=\"seiscomp3\""
   ]
  },
  {
   "cell_type": "markdown",
   "metadata": {},
   "source": [
    "# Consulta: Events"
   ]
  },
  {
   "cell_type": "code",
   "execution_count": 3,
   "metadata": {},
   "outputs": [],
   "source": [
    "start = \"20191201 000000\"\n",
    "end =   \"20191202 000000\"\n",
    "output_path = \"out.csv\"\n",
    "\n",
    "m_mag =  -0.2\n",
    "M_mag = 10\n",
    "m_prof =  -5\n",
    "M_prof = 260\n",
    "e_type = [\"earthquake\"]\n",
    "sta = [\"BAR2\",\"RUS\",\"PTB\"]"
   ]
  },
  {
   "cell_type": "markdown",
   "metadata": {},
   "source": [
    "## Simple Query"
   ]
  },
  {
   "cell_type": "code",
   "execution_count": 4,
   "metadata": {},
   "outputs": [
    {
     "name": "stdout",
     "output_type": "stream",
     "text": [
      "   agency             id          time_event  latitude  longitude   depth  \\\n",
      "0     SGC  SGC2019xpcrec 2019-12-01 00:03:43      6.59     -73.18   10.00   \n",
      "1     SGC  SGC2019xpcvvc 2019-12-01 00:08:53      6.46     -73.77  102.47   \n",
      "2     SGC  SGC2019xpdatg 2019-12-01 00:14:50      6.79     -73.20  141.33   \n",
      "3     SGC  SGC2019xpdwkc 2019-12-01 00:39:57      6.78     -73.18  142.21   \n",
      "4     SGC  SGC2019xperzx 2019-12-01 01:05:02      6.81     -73.18  141.71   \n",
      "..    ...            ...                 ...       ...        ...     ...   \n",
      "81    SGC  SGC2019xqwwuh 2019-12-01 23:18:09      6.81     -73.17  144.19   \n",
      "82    SGC  SGC2019xqxhda 2019-12-01 23:30:10      6.31     -73.63  111.43   \n",
      "83    SGC  SGC2019xqxtwy 2019-12-01 23:44:58      2.17     -76.57   -1.76   \n",
      "84    SGC  SGC2019xqxupm 2019-12-01 23:45:47      5.83     -75.92   71.70   \n",
      "85    SGC  SGC2019xqxxqj 2019-12-01 23:49:19      3.44     -76.27  136.61   \n",
      "\n",
      "    magnitude        rms  depth_uncertainty  latitude_uncertainty  \\\n",
      "0        1.34  10.306768                NaN                   NaN   \n",
      "1        1.18   0.220000                2.2              0.989949   \n",
      "2        1.83   0.390000                3.0              1.838478   \n",
      "3        1.86   0.670000                3.5              2.687006   \n",
      "4        1.80   0.220000                1.6              0.989949   \n",
      "..        ...        ...                ...                   ...   \n",
      "81       1.78   0.330000                2.4              2.050610   \n",
      "82       1.51   0.620000                3.7              1.838478   \n",
      "83       0.30   0.160000                5.1              4.949747   \n",
      "84       1.06   0.340000                3.4              2.969848   \n",
      "85       1.32   0.220000                2.2              1.484924   \n",
      "\n",
      "    longitude_uncertainty                                       Region  \\\n",
      "0                     NaN                San Gil - Santander, Colombia   \n",
      "1                0.989949              Landázuri - Santander, Colombia   \n",
      "2                1.838478               Zapatoca - Santander, Colombia   \n",
      "3                2.687006             Los Santos - Santander, Colombia   \n",
      "4                0.989949             Los Santos - Santander, Colombia   \n",
      "..                    ...                                          ...   \n",
      "81               2.050610             Los Santos - Santander, Colombia   \n",
      "82               1.838478  Santa Helena del Opón - Santander, Colombia   \n",
      "83               4.949747         Sotará (Paispamba) - Cauca, Colombia   \n",
      "84               2.969848         Ciudad Bolívar - Antioquia, Colombia   \n",
      "85               1.484924          Pradera - Valle del Cauca, Colombia   \n",
      "\n",
      "             type  \n",
      "0   not locatable  \n",
      "1      earthquake  \n",
      "2            None  \n",
      "3            None  \n",
      "4            None  \n",
      "..            ...  \n",
      "81     earthquake  \n",
      "82     earthquake  \n",
      "83  not locatable  \n",
      "84     earthquake  \n",
      "85     earthquake  \n",
      "\n",
      "[86 rows x 13 columns]\n"
     ]
    }
   ],
   "source": [
    "MySQLdb_dict= {'host':host, 'user':user, 'passwd':passwd, 'db': db}\n",
    "myquery = qy.Query(MySQLdb_dict,\"events\")\n",
    "events = myquery.simple_SQLquery(initial_date=start, final_date=end,\n",
    "                        min_mag=m_mag, max_mag=M_mag, \n",
    "                        min_prof=m_prof,  max_prof=M_prof,\n",
    "                        event_type=None,station_list=sta,\n",
    "                        sort = ['time_event'], to_csv=None)\n",
    "print(events)"
   ]
  },
  {
   "cell_type": "markdown",
   "metadata": {},
   "source": [
    "## ID-query"
   ]
  },
  {
   "cell_type": "code",
   "execution_count": 5,
   "metadata": {},
   "outputs": [
    {
     "name": "stdout",
     "output_type": "stream",
     "text": [
      "  agency             id          time_event  latitude  longitude   depth  \\\n",
      "0    SGC  SGC2019xpcvvc 2019-12-01 00:08:53      6.46     -73.77  102.47   \n",
      "1    SGC  SGC2019xqwwuh 2019-12-01 23:18:09      6.81     -73.17  144.19   \n",
      "\n",
      "   magnitude   rms  depth_uncertainty  latitude_uncertainty  \\\n",
      "0       1.18  0.22                2.2              0.989949   \n",
      "1       1.78  0.33                2.4              2.050610   \n",
      "\n",
      "   longitude_uncertainty                            Region        type  \n",
      "0               0.989949   Landázuri - Santander, Colombia  earthquake  \n",
      "1               2.050610  Los Santos - Santander, Colombia  earthquake  \n"
     ]
    }
   ],
   "source": [
    "MySQLdb_dict= {'host':host, 'user':user, 'passwd':passwd, 'db': db}\n",
    "myquery = qy.Query(MySQLdb_dict,\"events\")\n",
    "events = myquery.id_SQLquery(loc_id=[\"SGC2019xqwwuh\",\"SGC2019xpcvvc\"], initial_date=start, final_date=end,\n",
    "                        min_mag=m_mag, max_mag=M_mag, \n",
    "                        min_prof=m_prof,  max_prof=M_prof,\n",
    "                        event_type=e_type,station_list=sta,\n",
    "                        sort = ['time_event'],to_csv=None)\n",
    "print(events)"
   ]
  },
  {
   "cell_type": "markdown",
   "metadata": {},
   "source": [
    "## Radial Query"
   ]
  },
  {
   "cell_type": "code",
   "execution_count": 10,
   "metadata": {},
   "outputs": [
    {
     "name": "stdout",
     "output_type": "stream",
     "text": [
      "   agency             id          time_event  latitude  longitude   depth  \\\n",
      "0     SGC  SGC2019xpcvvc 2019-12-01 00:08:53      6.46     -73.77  102.47   \n",
      "1     SGC  SGC2019xplwxb 2019-12-01 04:42:00      6.83     -73.16  144.23   \n",
      "2     SGC  SGC2019xpmlxn 2019-12-01 04:59:20      6.83     -73.14  144.00   \n",
      "3     SGC  SGC2019xpnczm 2019-12-01 05:19:09      6.82     -73.19  146.05   \n",
      "4     SGC  SGC2019xpngws 2019-12-01 05:23:40      6.80     -73.12  151.00   \n",
      "5     SGC  SGC2019xppbta 2019-12-01 06:18:05      6.81     -73.18  138.17   \n",
      "6     SGC  SGC2019xppprj 2019-12-01 06:34:13      6.80     -73.15  150.52   \n",
      "7     SGC  SGC2019xpprvt 2019-12-01 06:36:44      6.80     -73.14  144.49   \n",
      "8     SGC  SGC2019xprooa 2019-12-01 07:33:15      6.80     -73.11  144.25   \n",
      "9     SGC  SGC2019xprzeb 2019-12-01 07:45:34      6.81     -73.19  139.74   \n",
      "10    SGC  SGC2019xpsebq 2019-12-01 07:51:16      6.80     -73.12  146.53   \n",
      "11    SGC  SGC2019xpsmvq 2019-12-01 08:01:27      6.77     -73.21  143.50   \n",
      "12    SGC  SGC2019xptnlt 2019-12-01 08:32:20      6.79     -73.42  126.05   \n",
      "13    SGC  SGC2019xpuszi 2019-12-01 09:08:55      6.77     -73.14  139.87   \n",
      "14    SGC  SGC2019xpvbbg 2019-12-01 09:18:18      7.42     -73.21  139.01   \n",
      "15    SGC  SGC2019xpvupe 2019-12-01 09:40:58      6.83     -73.15  145.84   \n",
      "16    SGC  SGC2019xpwexx 2019-12-01 09:52:57      6.80     -73.16  141.77   \n",
      "17    SGC  SGC2019xpwnku 2019-12-01 10:02:48      6.82     -73.19  144.59   \n",
      "18    SGC  SGC2019xpwpod 2019-12-01 10:05:17      6.80     -73.16  142.68   \n",
      "19    SGC  SGC2019xpxlrn 2019-12-01 10:30:52      6.00     -72.82   -0.46   \n",
      "20    SGC  SGC2019xpyavo 2019-12-01 10:48:47      6.19     -73.85  100.41   \n",
      "21    SGC  SGC2019xpyclr 2019-12-01 10:50:27      6.84     -73.17  147.26   \n",
      "22    SGC  SGC2019xpyrsx 2019-12-01 11:08:09      6.81     -73.17  138.75   \n",
      "23    SGC  SGC2019xpzwvx 2019-12-01 11:44:15      6.83     -73.13  149.34   \n",
      "24    SGC  SGC2019xqfexv 2019-12-01 14:24:30      6.83     -73.14  143.65   \n",
      "25    SGC  SGC2019xqfgjd 2019-12-01 14:25:56      7.07     -73.19  123.57   \n",
      "26    SGC  SGC2019xqfinq 2019-12-01 14:28:41      6.75     -73.14  145.53   \n",
      "27    SGC  SGC2019xqiqjq 2019-12-01 16:08:19      6.67     -73.20   25.16   \n",
      "28    SGC  SGC2019xqjtjs 2019-12-01 16:41:58      6.83     -73.18  147.55   \n",
      "29    SGC  SGC2019xqkgym 2019-12-01 16:57:43      6.56     -73.61  112.59   \n",
      "30    SGC  SGC2019xqkzck 2019-12-01 17:18:46      6.59     -73.60  113.64   \n",
      "31    SGC  SGC2019xqmnic 2019-12-01 18:05:27      6.81     -73.14  149.73   \n",
      "32    SGC  SGC2019xqppht 2019-12-01 19:38:16      7.22     -73.09  148.00   \n",
      "33    SGC  SGC2019xqqdmn 2019-12-01 19:54:43      6.79     -73.13  147.89   \n",
      "34    SGC  SGC2019xqqxaq 2019-12-01 20:17:24      6.82     -73.21  144.04   \n",
      "35    SGC  SGC2019xqtvgc 2019-12-01 21:45:50      6.82     -73.14  153.82   \n",
      "36    SGC  SGC2019xqwwuh 2019-12-01 23:18:09      6.81     -73.17  144.19   \n",
      "37    SGC  SGC2019xqxhda 2019-12-01 23:30:10      6.31     -73.63  111.43   \n",
      "\n",
      "     radio  magnitude   rms  depth_uncertainty  latitude_uncertainty  \\\n",
      "0    76.38       1.18  0.22                2.2              0.989949   \n",
      "1     3.08       3.04  0.64                1.6              1.272792   \n",
      "2     4.28       1.93  0.41                1.9              1.343503   \n",
      "3     2.44       1.51  0.19                1.3              1.060660   \n",
      "4     5.86       1.64  0.42                1.8              1.414214   \n",
      "5     1.30       2.75  0.46                1.3              0.989949   \n",
      "6     2.44       1.62  0.28                1.6              1.202082   \n",
      "7     4.08       1.67  0.30                1.8              1.484924   \n",
      "8     7.25       1.34  0.11                1.3              1.131371   \n",
      "9     2.52       1.45  0.27                2.3              1.697056   \n",
      "10    5.72       2.14  0.52                2.1              1.626346   \n",
      "11    6.22       1.28  0.25                2.3              1.484924   \n",
      "12   28.18       1.34  0.28                1.8              1.060660   \n",
      "13    6.09       1.53  0.15                1.0              0.848528   \n",
      "14   67.88       1.20  0.34                2.2              2.404163   \n",
      "15    2.60       2.56  0.42                1.3              1.060660   \n",
      "16    2.17       1.71  0.31                1.9              1.697056   \n",
      "17    2.20       1.75  0.15                1.2              0.989949   \n",
      "18    1.76       1.58  0.20                1.4              1.202082   \n",
      "19   97.88       1.27  0.19                6.9              4.596194   \n",
      "20  101.91       1.40  0.38                3.3              1.555635   \n",
      "21    3.10       2.66  0.51                1.6              1.131371   \n",
      "22    0.25       1.68  0.18                1.4              1.272792   \n",
      "23    4.92       2.14  0.49                1.9              1.414214   \n",
      "24    3.78       1.80  0.27                2.4              2.262742   \n",
      "25   28.97       1.43  0.24                2.4              2.687006   \n",
      "26    8.10       1.75  0.28                2.9              2.616295   \n",
      "27   16.52       1.46  0.54                2.1              1.202082   \n",
      "28    2.17       2.75  0.61                1.9              1.414214   \n",
      "29   55.76       1.43  0.13                1.0              0.494975   \n",
      "30   53.49       1.57  0.49                3.1              1.626346   \n",
      "31    3.63       2.21  0.47                2.2              1.697056   \n",
      "32   46.17       1.73  0.35                2.6              1.979899   \n",
      "33    5.02       1.94  0.41                2.7              1.909188   \n",
      "34    5.12       1.66  0.22                1.8              1.555635   \n",
      "35    3.00       1.75  0.55                5.5              3.676955   \n",
      "36    0.30       1.78  0.33                2.4              2.050610   \n",
      "37   75.23       1.51  0.62                3.7              1.838478   \n",
      "\n",
      "    longitude_uncertainty                                        Region  \\\n",
      "0                0.989949               Landázuri - Santander, Colombia   \n",
      "1                1.272792              Los Santos - Santander, Colombia   \n",
      "2                1.343503              Los Santos - Santander, Colombia   \n",
      "3                1.060660                Zapatoca - Santander, Colombia   \n",
      "4                1.414214              Los Santos - Santander, Colombia   \n",
      "5                0.989949              Los Santos - Santander, Colombia   \n",
      "6                1.202082              Los Santos - Santander, Colombia   \n",
      "7                1.484924              Los Santos - Santander, Colombia   \n",
      "8                1.131371              Los Santos - Santander, Colombia   \n",
      "9                1.697056                Zapatoca - Santander, Colombia   \n",
      "10               1.626346              Los Santos - Santander, Colombia   \n",
      "11               1.484924                Zapatoca - Santander, Colombia   \n",
      "12               1.060660  San Vicente de Chucurí - Santander, Colombia   \n",
      "13               0.848528              Los Santos - Santander, Colombia   \n",
      "14               2.404163                Rionegro - Santander, Colombia   \n",
      "15               1.060660              Los Santos - Santander, Colombia   \n",
      "16               1.697056              Los Santos - Santander, Colombia   \n",
      "17               0.989949                Zapatoca - Santander, Colombia   \n",
      "18               1.202082              Los Santos - Santander, Colombia   \n",
      "19               4.596194                      Belén - Boyacá, Colombia   \n",
      "20               1.555635               Landázuri - Santander, Colombia   \n",
      "21               1.131371              Los Santos - Santander, Colombia   \n",
      "22               1.272792              Los Santos - Santander, Colombia   \n",
      "23               1.414214              Los Santos - Santander, Colombia   \n",
      "24               2.262742              Los Santos - Santander, Colombia   \n",
      "25               2.687006                   Girón - Santander, Colombia   \n",
      "26               2.616295              Los Santos - Santander, Colombia   \n",
      "27               1.202082               Barichara - Santander, Colombia   \n",
      "28               1.414214                Zapatoca - Santander, Colombia   \n",
      "29               0.494975               El Carmen - Santander, Colombia   \n",
      "30               1.626346               El Carmen - Santander, Colombia   \n",
      "31               1.697056              Los Santos - Santander, Colombia   \n",
      "32               1.979899             Bucaramanga - Santander, Colombia   \n",
      "33               1.909188              Los Santos - Santander, Colombia   \n",
      "34               1.555635                Zapatoca - Santander, Colombia   \n",
      "35               3.676955              Los Santos - Santander, Colombia   \n",
      "36               2.050610              Los Santos - Santander, Colombia   \n",
      "37               1.838478   Santa Helena del Opón - Santander, Colombia   \n",
      "\n",
      "          type  \n",
      "0   earthquake  \n",
      "1   earthquake  \n",
      "2   earthquake  \n",
      "3   earthquake  \n",
      "4   earthquake  \n",
      "5   earthquake  \n",
      "6   earthquake  \n",
      "7   earthquake  \n",
      "8   earthquake  \n",
      "9   earthquake  \n",
      "10  earthquake  \n",
      "11  earthquake  \n",
      "12  earthquake  \n",
      "13  earthquake  \n",
      "14  earthquake  \n",
      "15  earthquake  \n",
      "16  earthquake  \n",
      "17  earthquake  \n",
      "18  earthquake  \n",
      "19  earthquake  \n",
      "20  earthquake  \n",
      "21  earthquake  \n",
      "22  earthquake  \n",
      "23  earthquake  \n",
      "24  earthquake  \n",
      "25  earthquake  \n",
      "26  earthquake  \n",
      "27  earthquake  \n",
      "28  earthquake  \n",
      "29  earthquake  \n",
      "30  earthquake  \n",
      "31  earthquake  \n",
      "32  earthquake  \n",
      "33  earthquake  \n",
      "34  earthquake  \n",
      "35  earthquake  \n",
      "36  earthquake  \n",
      "37  earthquake  \n"
     ]
    }
   ],
   "source": [
    "lat = 6.81\n",
    "lon = -73.17\n",
    "ratio = 120\n",
    "\n",
    "MySQLdb_dict= {'host':host, 'user':user, 'passwd':passwd, 'db': db}\n",
    "myquery = qy.Query(MySQLdb_dict,\"events\")\n",
    "events = myquery.radial_SQLquery(lat=lat,lon=lon,ratio=ratio,\n",
    "                initial_date=start, final_date=end,\n",
    "                min_mag=m_mag, max_mag=M_mag, \n",
    "                min_prof=m_prof,  max_prof=M_prof,\n",
    "                event_type=e_type,station_list=None,\n",
    "                sort = ['time_event'],to_csv=None)\n",
    "print(events)"
   ]
  },
  {
   "cell_type": "code",
   "execution_count": null,
   "metadata": {},
   "outputs": [],
   "source": []
  }
 ],
 "metadata": {
  "interpreter": {
   "hash": "421fece44004151813ead2f68a59466df1452450a46575b3d103d19011d372c7"
  },
  "kernelspec": {
   "display_name": "Python 3.7.9 64-bit ('php_query': conda)",
   "name": "python3"
  },
  "language_info": {
   "codemirror_mode": {
    "name": "ipython",
    "version": 3
   },
   "file_extension": ".py",
   "mimetype": "text/x-python",
   "name": "python",
   "nbconvert_exporter": "python",
   "pygments_lexer": "ipython3",
   "version": "3.7.10"
  },
  "orig_nbformat": 4
 },
 "nbformat": 4,
 "nbformat_minor": 2
}