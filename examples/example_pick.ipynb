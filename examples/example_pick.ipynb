{
 "cells": [
  {
   "cell_type": "markdown",
   "metadata": {},
   "source": [
    "Usemos el siguiente bloque para importar añadir al path la librería query"
   ]
  },
  {
   "cell_type": "code",
   "execution_count": null,
   "metadata": {},
   "outputs": [],
   "source": [
    "import sys\n",
    "import os \n",
    "query_path = os.path.dirname(os.getcwd())\n",
    "sys.path.insert(0,query_path)"
   ]
  },
  {
   "cell_type": "markdown",
   "metadata": {},
   "source": [
    "Desde aca empieza"
   ]
  },
  {
   "cell_type": "code",
   "execution_count": 1,
   "metadata": {},
   "outputs": [],
   "source": [
    "import query as qy\n",
    "\n",
    "host = \"10.100.100.232\"\n",
    "user=\"consulta\"\n",
    "passwd=\"consulta\"\n",
    "db=\"seiscomp3\""
   ]
  },
  {
   "cell_type": "markdown",
   "metadata": {},
   "source": [
    "# Consulta: Picks"
   ]
  },
  {
   "cell_type": "code",
   "execution_count": 7,
   "metadata": {},
   "outputs": [],
   "source": [
    "start = \"20191201 000000\"\n",
    "end =   \"20191202 000000\"\n",
    "output_path = \"out.csv\"\n",
    "\n",
    "m_mag =  -0.2\n",
    "M_mag = 10\n",
    "m_prof =  -5\n",
    "M_prof = 260\n",
    "e_type = [\"earthquake\"]\n",
    "sta = [\"BAR2\",\"RUS\",\"PTB\"]"
   ]
  },
  {
   "cell_type": "markdown",
   "metadata": {},
   "source": [
    "## Simple Query"
   ]
  },
  {
   "cell_type": "code",
   "execution_count": 8,
   "metadata": {},
   "outputs": [
    {
     "name": "stdout",
     "output_type": "stream",
     "text": [
      "    agency             id          time_event  latitude  latitude_uncertainty  \\\n",
      "0      SGC  SGC2019xpcvvc 2019-12-01 00:08:53      6.46              0.989949   \n",
      "1      SGC  SGC2019xpcvvc 2019-12-01 00:08:53      6.46              0.989949   \n",
      "2      SGC  SGC2019xpcvvc 2019-12-01 00:08:53      6.46              0.989949   \n",
      "3      SGC  SGC2019xplwxb 2019-12-01 04:42:00      6.83              1.272792   \n",
      "4      SGC  SGC2019xplwxb 2019-12-01 04:42:00      6.83              1.272792   \n",
      "..     ...            ...                 ...       ...                   ...   \n",
      "117    SGC  SGC2019xqwwuh 2019-12-01 23:18:09      6.81              2.050610   \n",
      "118    SGC  SGC2019xqwwuh 2019-12-01 23:18:09      6.81              2.050610   \n",
      "119    SGC  SGC2019xqxhda 2019-12-01 23:30:10      6.31              1.838478   \n",
      "120    SGC  SGC2019xqxhda 2019-12-01 23:30:10      6.31              1.838478   \n",
      "121    SGC  SGC2019xqxhda 2019-12-01 23:30:10      6.31              1.838478   \n",
      "\n",
      "     longitude  longitude_uncertainty   depth  depth_uncertainty   rms  ...  \\\n",
      "0       -73.77               0.989949  102.47                2.2  0.22  ...   \n",
      "1       -73.77               0.989949  102.47                2.2  0.22  ...   \n",
      "2       -73.77               0.989949  102.47                2.2  0.22  ...   \n",
      "3       -73.16               1.272792  144.23                1.6  0.64  ...   \n",
      "4       -73.16               1.272792  144.23                1.6  0.64  ...   \n",
      "..         ...                    ...     ...                ...   ...  ...   \n",
      "117     -73.17               2.050610  144.19                2.4  0.33  ...   \n",
      "118     -73.17               2.050610  144.19                2.4  0.33  ...   \n",
      "119     -73.63               1.838478  111.43                3.7  0.62  ...   \n",
      "120     -73.63               1.838478  111.43                3.7  0.62  ...   \n",
      "121     -73.63               1.838478  111.43                3.7  0.62  ...   \n",
      "\n",
      "    magnitude_type           picker network station  location channel pick_p  \\\n",
      "0          MLr_vmm   rbolanos@proc4      CM     PTB        00     HHZ      P   \n",
      "1          MLr_vmm   rbolanos@proc4      CM     RUS        00     HHZ      P   \n",
      "2          MLr_vmm   rbolanos@proc4      CM    BAR2        00     HHZ      P   \n",
      "3            MLr_3  mcubillos@proc3      CM    BAR2        20     EHZ      P   \n",
      "4            MLr_3  mcubillos@proc3      CM     PTB        00     HHZ      P   \n",
      "..             ...              ...     ...     ...       ...     ...    ...   \n",
      "117          MLr_3  adagudelo@proc1      CM    BAR2        00     HHZ      P   \n",
      "118          MLr_3  adagudelo@proc1      CM     PTB        00     HHZ      P   \n",
      "119        MLr_vmm  jbermudez@proc4      CM     RUS        00     HHZ      P   \n",
      "120        MLr_vmm  jbermudez@proc4      CM    BAR2        00     HHZ      P   \n",
      "121        MLr_vmm  jbermudez@proc4      CM     PTB        00     HHZ      P   \n",
      "\n",
      "                         time_pick_p pick_s                      time_pick_s  \n",
      "0   2019-12-01 00:09:09.981212+00:00      S 2019-12-01 00:09:23.058456+00:00  \n",
      "1   2019-12-01 00:09:12.762005+00:00      S 2019-12-01 00:09:27.192068+00:00  \n",
      "2   2019-12-01 00:09:09.306240+00:00      S 2019-12-01 00:09:22.609561+00:00  \n",
      "3   2019-12-01 04:42:19.833633+00:00      S 2019-12-01 04:42:35.159284+00:00  \n",
      "4   2019-12-01 04:42:26.542220+00:00      S 2019-12-01 04:42:47.593304+00:00  \n",
      "..                               ...    ...                              ...  \n",
      "117 2019-12-01 23:18:29.197401+00:00      S 2019-12-01 23:18:44.204018+00:00  \n",
      "118 2019-12-01 23:18:36.134982+00:00      S 2019-12-01 23:18:56.779005+00:00  \n",
      "119 2019-12-01 23:30:27.832598+00:00      S 2019-12-01 23:30:42.680415+00:00  \n",
      "120 2019-12-01 23:30:26.601897+00:00      S 2019-12-01 23:30:40.417512+00:00  \n",
      "121 2019-12-01 23:30:28.368549+00:00      S 2019-12-01 23:30:43.573666+00:00  \n",
      "\n",
      "[122 rows x 25 columns]\n"
     ]
    }
   ],
   "source": [
    "MySQLdb_dict= {'host':host, 'user':user, 'passwd':passwd, 'db': db}\n",
    "myquery = qy.Query(MySQLdb_dict,\"picks\")\n",
    "picks = myquery.simple_SQLquery(initial_date=start, final_date=end,\n",
    "                        min_mag=m_mag, max_mag=M_mag, \n",
    "                        min_prof=m_prof,  max_prof=M_prof,\n",
    "                        event_type=e_type,station_list=sta,\n",
    "                        sort = ['time_event'],merge_picks=\"inner\",\n",
    "                        to_csv=None)\n",
    "print(picks)"
   ]
  },
  {
   "cell_type": "markdown",
   "metadata": {},
   "source": [
    "## ID-query"
   ]
  },
  {
   "cell_type": "code",
   "execution_count": 9,
   "metadata": {},
   "outputs": [
    {
     "name": "stdout",
     "output_type": "stream",
     "text": [
      "   agency             id          time_event  latitude  latitude_uncertainty  \\\n",
      "No                                                                             \n",
      "1     SGC  SGC2019xpcvvc 2019-12-01 00:08:53      6.46              0.989949   \n",
      "2     SGC  SGC2019xpcvvc 2019-12-01 00:08:53      6.46              0.989949   \n",
      "3     SGC  SGC2019xpcvvc 2019-12-01 00:08:53      6.46              0.989949   \n",
      "4     SGC  SGC2019xqwwuh 2019-12-01 23:18:09      6.81              2.050610   \n",
      "5     SGC  SGC2019xqwwuh 2019-12-01 23:18:09      6.81              2.050610   \n",
      "6     SGC  SGC2019xqwwuh 2019-12-01 23:18:09      6.81              2.050610   \n",
      "\n",
      "    longitude  longitude_uncertainty   depth  depth_uncertainty   rms  ...  \\\n",
      "No                                                                     ...   \n",
      "1      -73.77               0.989949  102.47                2.2  0.22  ...   \n",
      "2      -73.77               0.989949  102.47                2.2  0.22  ...   \n",
      "3      -73.77               0.989949  102.47                2.2  0.22  ...   \n",
      "4      -73.17               2.050610  144.19                2.4  0.33  ...   \n",
      "5      -73.17               2.050610  144.19                2.4  0.33  ...   \n",
      "6      -73.17               2.050610  144.19                2.4  0.33  ...   \n",
      "\n",
      "   magnitude_type           picker network station  location channel pick_p  \\\n",
      "No                                                                            \n",
      "1         MLr_vmm   rbolanos@proc4      CM     PTB        00     HHZ      P   \n",
      "2         MLr_vmm   rbolanos@proc4      CM     RUS        00     HHZ      P   \n",
      "3         MLr_vmm   rbolanos@proc4      CM    BAR2        00     HHZ      P   \n",
      "4           MLr_3  adagudelo@proc1      CM    BAR2        00     HHZ      P   \n",
      "5           MLr_3  adagudelo@proc1      CM     RUS        00     HHZ      P   \n",
      "6           MLr_3  adagudelo@proc1      CM     PTB        00     HHZ      P   \n",
      "\n",
      "                        time_pick_p pick_s                      time_pick_s  \n",
      "No                                                                           \n",
      "1  2019-12-01 00:09:09.981212+00:00      S 2019-12-01 00:09:23.058456+00:00  \n",
      "2  2019-12-01 00:09:12.762005+00:00      S 2019-12-01 00:09:27.192068+00:00  \n",
      "3  2019-12-01 00:09:09.306240+00:00      S 2019-12-01 00:09:22.609561+00:00  \n",
      "4  2019-12-01 23:18:29.197401+00:00      S 2019-12-01 23:18:44.204018+00:00  \n",
      "5  2019-12-01 23:18:32.919279+00:00      S 2019-12-01 23:18:51.300399+00:00  \n",
      "6  2019-12-01 23:18:36.134982+00:00      S 2019-12-01 23:18:56.779005+00:00  \n",
      "\n",
      "[6 rows x 25 columns]\n"
     ]
    }
   ],
   "source": [
    "MySQLdb_dict= {'host':host, 'user':user, 'passwd':passwd, 'db': db}\n",
    "myquery = qy.Query(MySQLdb_dict,\"picks\")\n",
    "picks = myquery.id_SQLquery(loc_id=[\"SGC2019xqwwuh\",\"SGC2019xpcvvc\"], initial_date=start, final_date=end,\n",
    "                        min_mag=m_mag, max_mag=M_mag, \n",
    "                        min_prof=m_prof,  max_prof=M_prof,\n",
    "                        event_type=e_type,station_list=sta,\n",
    "                        sort = ['time_event'],to_csv=None)\n",
    "print(picks)"
   ]
  },
  {
   "cell_type": "markdown",
   "metadata": {},
   "source": [
    "## Radial Query"
   ]
  },
  {
   "cell_type": "code",
   "execution_count": 10,
   "metadata": {},
   "outputs": [
    {
     "name": "stdout",
     "output_type": "stream",
     "text": [
      "    agency             id          time_event  latitude  latitude_uncertainty  \\\n",
      "No                                                                              \n",
      "1      SGC  SGC2019xpcvvc 2019-12-01 00:08:53      6.46              0.989949   \n",
      "2      SGC  SGC2019xpcvvc 2019-12-01 00:08:53      6.46              0.989949   \n",
      "3      SGC  SGC2019xpcvvc 2019-12-01 00:08:53      6.46              0.989949   \n",
      "4      SGC  SGC2019xpcvvc 2019-12-01 00:08:53      6.46              0.989949   \n",
      "5      SGC  SGC2019xpcvvc 2019-12-01 00:08:53      6.46              0.989949   \n",
      "..     ...            ...                 ...       ...                   ...   \n",
      "422    SGC  SGC2019xqxhda 2019-12-01 23:30:10      6.31              1.838478   \n",
      "423    SGC  SGC2019xqxhda 2019-12-01 23:30:10      6.31              1.838478   \n",
      "424    SGC  SGC2019xqxhda 2019-12-01 23:30:10      6.31              1.838478   \n",
      "425    SGC  SGC2019xqxhda 2019-12-01 23:30:10      6.31              1.838478   \n",
      "427    SGC  SGC2019xqxhda 2019-12-01 23:30:10      6.31              1.838478   \n",
      "\n",
      "     longitude  longitude_uncertainty   depth  depth_uncertainty   rms  ...  \\\n",
      "No                                                                      ...   \n",
      "1       -73.77               0.989949  102.47                2.2  0.22  ...   \n",
      "2       -73.77               0.989949  102.47                2.2  0.22  ...   \n",
      "3       -73.77               0.989949  102.47                2.2  0.22  ...   \n",
      "4       -73.77               0.989949  102.47                2.2  0.22  ...   \n",
      "5       -73.77               0.989949  102.47                2.2  0.22  ...   \n",
      "..         ...                    ...     ...                ...   ...  ...   \n",
      "422     -73.63               1.838478  111.43                3.7  0.62  ...   \n",
      "423     -73.63               1.838478  111.43                3.7  0.62  ...   \n",
      "424     -73.63               1.838478  111.43                3.7  0.62  ...   \n",
      "425     -73.63               1.838478  111.43                3.7  0.62  ...   \n",
      "427     -73.63               1.838478  111.43                3.7  0.62  ...   \n",
      "\n",
      "    magnitude_type           picker network station  location  channel pick_p  \\\n",
      "No                                                                              \n",
      "1          MLr_vmm   rbolanos@proc4      CM     PTB        00      HHZ      P   \n",
      "2          MLr_vmm   rbolanos@proc4      CM     RUS        00      HHZ      P   \n",
      "3          MLr_vmm   rbolanos@proc4      CM     PAM        20      EHZ      P   \n",
      "4          MLr_vmm   rbolanos@proc4      CM    BAR2        00      HHZ      P   \n",
      "5          MLr_vmm   rbolanos@proc4      CM   VMM09        00      HHZ      P   \n",
      "..             ...              ...     ...     ...       ...      ...    ...   \n",
      "422        MLr_vmm  jbermudez@proc4      CM     PTB        00      HHZ      P   \n",
      "423        MLr_vmm  jbermudez@proc4      CM    SPBC        00      HHZ      P   \n",
      "424        MLr_vmm  jbermudez@proc4      CM     CHI        00      HHZ      P   \n",
      "425        MLr_vmm  jbermudez@proc4      CM     OCA        00      HHZ      P   \n",
      "427        MLr_vmm  jbermudez@proc4      CM    EZNC        00      HHZ      P   \n",
      "\n",
      "                         time_pick_p pick_s                      time_pick_s  \n",
      "No                                                                            \n",
      "1   2019-12-01 00:09:09.981212+00:00      S 2019-12-01 00:09:23.058456+00:00  \n",
      "2   2019-12-01 00:09:12.762005+00:00      S 2019-12-01 00:09:27.192068+00:00  \n",
      "3   2019-12-01 00:09:16.670148+00:00      S 2019-12-01 00:09:35.985388+00:00  \n",
      "4   2019-12-01 00:09:09.306240+00:00      S 2019-12-01 00:09:22.609561+00:00  \n",
      "5   2019-12-01 00:09:11.243897+00:00      S 2019-12-01 00:09:25.328065+00:00  \n",
      "..                               ...    ...                              ...  \n",
      "422 2019-12-01 23:30:28.368549+00:00      S 2019-12-01 23:30:43.573666+00:00  \n",
      "423 2019-12-01 23:30:28.874725+00:00      S 2019-12-01 23:30:44.397442+00:00  \n",
      "424 2019-12-01 23:30:39.434937+00:00      S 2019-12-01 23:31:01.508161+00:00  \n",
      "425 2019-12-01 23:30:42.730040+00:00      S 2019-12-01 23:31:07.066168+00:00  \n",
      "427 2019-12-01 23:30:35.489112+00:00      S 2019-12-01 23:30:53.465615+00:00  \n",
      "\n",
      "[427 rows x 26 columns]\n"
     ]
    }
   ],
   "source": [
    "lat = 6.81\n",
    "lon = -73.17\n",
    "ratio = 120\n",
    "\n",
    "MySQLdb_dict= {'host':host, 'user':user, 'passwd':passwd, 'db': db}\n",
    "myquery = qy.Query(MySQLdb_dict,\"picks\")\n",
    "picks = myquery.radial_SQLquery(lat=lat,lon=lon,ratio=ratio,\n",
    "                initial_date=start, final_date=end,\n",
    "                min_mag=m_mag, max_mag=M_mag, \n",
    "                min_prof=m_prof,  max_prof=M_prof,\n",
    "                event_type=e_type,station_list=None,\n",
    "                sort = ['time_event'],to_csv=None)\n",
    "print(picks)"
   ]
  },
  {
   "cell_type": "code",
   "execution_count": null,
   "metadata": {},
   "outputs": [],
   "source": []
  }
 ],
 "metadata": {
  "interpreter": {
   "hash": "421fece44004151813ead2f68a59466df1452450a46575b3d103d19011d372c7"
  },
  "kernelspec": {
   "display_name": "Python 3.7.9 64-bit ('php_query': conda)",
   "name": "python3"
  },
  "language_info": {
   "name": "python",
   "version": ""
  },
  "orig_nbformat": 4
 },
 "nbformat": 4,
 "nbformat_minor": 2
}